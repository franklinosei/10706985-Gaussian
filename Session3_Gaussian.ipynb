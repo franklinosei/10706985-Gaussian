{
  "nbformat": 4,
  "nbformat_minor": 0,
  "metadata": {
    "colab": {
      "name": "Session3-Gaussian.ipynb",
      "private_outputs": true,
      "provenance": [],
      "collapsed_sections": []
    },
    "kernelspec": {
      "name": "python3",
      "display_name": "Python 3"
    },
    "language_info": {
      "name": "python"
    }
  },
  "cells": [
    {
      "cell_type": "code",
      "metadata": {
        "id": "9BA5WqO4Btj4"
      },
      "source": [
        ""
      ],
      "execution_count": null,
      "outputs": []
    },
    {
      "cell_type": "code",
      "metadata": {
        "id": "ktpsz1qwnmWU"
      },
      "source": [
        "import numpy as np\n",
        "from math import pi, e\n",
        "import matplotlib.pyplot as plt\n",
        "import cv2\n",
        "  "
      ],
      "execution_count": null,
      "outputs": []
    },
    {
      "cell_type": "code",
      "metadata": {
        "id": "E0ktsRFKnRqE"
      },
      "source": [
        "def CreateGaussianFilter(size, sigma):\n",
        "    kernel =  np.fromfunction(lambda x, y: (1/(2*pi*sigma**2)) * e ** ((-1*((x-(size-1)/2)**2+(y-(size-1)/2)**2))/(2*sigma**2)), (size, size))\n",
        "    return kernel / np.sum(kernel)"
      ],
      "execution_count": null,
      "outputs": []
    },
    {
      "cell_type": "code",
      "metadata": {
        "id": "R9yoiSymnUu2"
      },
      "source": [
        "def gaussianBlur(img, kernel_size, sigma): \n",
        "\n",
        "    kernel = CreateGaussianFilter(kernel_size, sigma)\n",
        "\n",
        "    d = (kernel_size-1)//2\n",
        "\n",
        "    gaussian = np.zeros((img.shape[0]-2*d, img.shape[1]-2*d))\n",
        "\n",
        "    for y in range(d, img.shape[0]-d):\n",
        "\n",
        "        for x in range(d, img.shape[1]-d):\n",
        "\n",
        "            gaussian[y-d][x-d] = np.sum(np.multiply(img[y-d:y+d+1, x-d:x+d+1], kernel))\n",
        "\n",
        "    return gaussian"
      ],
      "execution_count": null,
      "outputs": []
    },
    {
      "cell_type": "code",
      "metadata": {
        "id": "sFmvTzMunqQ8"
      },
      "source": [
        "img = np.random.rand(100,100)\n",
        "\n",
        "# Read image\n",
        "\n",
        "\n",
        "image = cv2.imread('tom.jpg')\n",
        "x = (cv2.resize(image, (120,100)))\n"
      ],
      "execution_count": null,
      "outputs": []
    },
    {
      "cell_type": "code",
      "metadata": {
        "id": "MBPkpSZRra8Z"
      },
      "source": [
        "blurred_img = gaussianBlur(x, 3, 2)"
      ],
      "execution_count": null,
      "outputs": []
    },
    {
      "cell_type": "code",
      "metadata": {
        "id": "3kAgTMowrl83"
      },
      "source": [
        "plt.imshow(blurred_img)"
      ],
      "execution_count": null,
      "outputs": []
    },
    {
      "cell_type": "code",
      "metadata": {
        "id": "shXGdADhrqvM"
      },
      "source": [
        ""
      ],
      "execution_count": null,
      "outputs": []
    }
  ]
}