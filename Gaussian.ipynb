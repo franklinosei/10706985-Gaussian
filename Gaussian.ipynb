{
  "nbformat": 4,
  "nbformat_minor": 0,
  "metadata": {
    "colab": {
      "name": "Gaussian.ipynb",
      "private_outputs": true,
      "provenance": [],
      "collapsed_sections": []
    },
    "kernelspec": {
      "name": "python3",
      "display_name": "Python 3"
    },
    "language_info": {
      "name": "python"
    }
  },
  "cells": [
    {
      "cell_type": "code",
      "metadata": {
        "id": "ktpsz1qwnmWU"
      },
      "source": [
        "%pylab inline"
      ],
      "execution_count": null,
      "outputs": []
    },
    {
      "cell_type": "code",
      "metadata": {
        "id": "E0ktsRFKnRqE"
      },
      "source": [
        "def getGaussianKernel(size, sigma):\n",
        "\n",
        "\n",
        "    kernel =  np.fromfunction(lambda x, y: (1/(2*pi*sigma**2)) * e ** ((-1*((x-(size-1)/2)**2+(y-(size-1)/2)**2))/(2*sigma**2)), (size, size))\n",
        "\n",
        "\n",
        "    return kernel / np.sum(kernel)"
      ],
      "execution_count": null,
      "outputs": []
    },
    {
      "cell_type": "code",
      "metadata": {
        "id": "b_daFyuonU3E"
      },
      "source": [
        "getGaussianKernel(3, 1)"
      ],
      "execution_count": null,
      "outputs": []
    },
    {
      "cell_type": "code",
      "metadata": {
        "id": "R9yoiSymnUu2"
      },
      "source": [
        "def gaussianBlur(img, kSize, kSigma):\n",
        "  \n",
        "    kernel = gaussianKernel(kSize, kSigma)\n",
        "\n",
        "    d = int((kSize-1)/2)\n",
        "\n",
        "    gaussian = np.zeros((img.shape[0]-2*d, img.shape[1]-2*d))\n",
        "\n",
        "    for y in range(d, img.shape[0]-d):\n",
        "\n",
        "        for x in range(d, img.shape[1]-d):\n",
        "\n",
        "            gaussian[y-d][x-d] = np.sum(np.multiply(img[y-d:y+d+1, x-d:x+d+1], kernel))\n",
        "\n",
        "    return gaussian"
      ],
      "execution_count": null,
      "outputs": []
    },
    {
      "cell_type": "code",
      "metadata": {
        "id": "sFmvTzMunqQ8"
      },
      "source": [
        "# Generating a random image\n",
        "\n",
        "image = rand(120,120)\n",
        "\n",
        "image"
      ],
      "execution_count": null,
      "outputs": []
    },
    {
      "cell_type": "code",
      "metadata": {
        "id": "lxcNOqOQrZGJ"
      },
      "source": [
        "# Displaying generated image\n",
        "\n",
        "imshow(image)"
      ],
      "execution_count": null,
      "outputs": []
    },
    {
      "cell_type": "code",
      "metadata": {
        "id": "MBPkpSZRra8Z"
      },
      "source": [
        "blurredImage = gaussianBlur(image, 3, 1)"
      ],
      "execution_count": null,
      "outputs": []
    },
    {
      "cell_type": "code",
      "metadata": {
        "id": "3kAgTMowrl83"
      },
      "source": [
        "imshow(blurredImage)"
      ],
      "execution_count": null,
      "outputs": []
    },
    {
      "cell_type": "code",
      "metadata": {
        "id": "shXGdADhrqvM"
      },
      "source": [
        ""
      ],
      "execution_count": null,
      "outputs": []
    }
  ]
}